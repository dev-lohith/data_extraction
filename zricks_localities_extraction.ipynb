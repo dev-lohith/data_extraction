{
 "cells": [
  {
   "cell_type": "code",
   "execution_count": 39,
   "id": "ea02ed76",
   "metadata": {},
   "outputs": [],
   "source": [
    "#Dependencies\n",
    "import requests # pip install requests\n",
    "from bs4 import BeautifulSoup # pip install beautifulsoup4\n",
    "from lxml import etree\n",
    "import re\n",
    "from IPython.display import display, IFrame\n",
    "import pandas as pd"
   ]
  },
  {
   "cell_type": "code",
   "execution_count": 42,
   "id": "828a4dc5-84e0-4d4b-83a6-c08a61854eb2",
   "metadata": {},
   "outputs": [
    {
     "data": {
      "text/html": [
       "\n",
       "        <iframe\n",
       "            width=\"100%\"\n",
       "            height=\"400px\"\n",
       "            src=\"https://www.zricks.com/Locality/Hyderabad\"\n",
       "            frameborder=\"0\"\n",
       "            allowfullscreen\n",
       "            \n",
       "        ></iframe>\n",
       "        "
      ],
      "text/plain": [
       "<IPython.lib.display.IFrame at 0x7f858c3eb970>"
      ]
     },
     "metadata": {},
     "output_type": "display_data"
    }
   ],
   "source": [
    "# Specify the URL of the webpage you want to display\n",
    "url = \"https://www.zricks.com/Locality/Hyderabad\"\n",
    "\n",
    "# Set the width and height of the iframe\n",
    "width = \"100%\"\n",
    "height = \"400px\"\n",
    "\n",
    "# Embed the webpage within an iframe and display it\n",
    "display(IFrame(url, width=width, height=height))"
   ]
  },
  {
   "cell_type": "code",
   "execution_count": 38,
   "id": "f24048dc-437b-4fa5-b7f9-48ef8b1e311c",
   "metadata": {},
   "outputs": [
    {
     "name": "stdout",
     "output_type": "stream",
     "text": [
      "           City      Localities\n",
      "0     Bangalore  A-Narayanapura\n",
      "1     Bangalore        Abbigere\n",
      "2     Bangalore   Abshot-Layout\n",
      "3     Bangalore         Adugodi\n",
      "4     Bangalore     AECS-Layout\n",
      "...         ...             ...\n",
      "5606       Pune  Yashwant-Nagar\n",
      "5607       Pune           Yavat\n",
      "5608       Pune         Yerwada\n",
      "5609       Pune      Yewalewadi\n",
      "5610        Soh                \n",
      "\n",
      "[5611 rows x 2 columns]\n"
     ]
    }
   ],
   "source": [
    "# List of city names (assuming you have this list)\n",
    "city_names = ['Bangalore','Chandigarh','Chennai','Ghaziabad','Goa','Greater Noida','Gurgaon','Hyderabad','Kasauli','Kolkata','Lucknow','Mumbai','Navi Mumbai','New Delhi','Noida','Pune','Soh']\n",
    "# Create an empty list to store data\n",
    "data = []\n",
    "\n",
    "for city_name in city_names:\n",
    "    # Get the url in response text\n",
    "    url = f\"https://www.zricks.com/Locality/{city_name}\"\n",
    "    response_text = requests.get(url).text\n",
    "    \n",
    "    # Convert to a beautiful soup object\n",
    "    soup = BeautifulSoup(response_text, 'html.parser')\n",
    "\n",
    "    # Extract locality names\n",
    "    locality_names = []\n",
    "    \n",
    "    for link in soup.find_all('a', href=True, class_='waves-effect btn mb15 graybtn'):\n",
    "        locality_names.append(link.get('href').replace(f'/Locality/{city_name}/', ''))\n",
    "    \n",
    "    # Append city_name and locality_names to the data list\n",
    "    data.append({\"City\": city_name, \"Localities\": \", \".join(locality_names)})\n",
    "\n",
    "# Create a pandas DataFrame from the data list\n",
    "df = pd.DataFrame(data)\n",
    "\n",
    "# Expand localities into separate rows\n",
    "df['Localities'] = df['Localities'].str.split(', ')\n",
    "df = df.explode('Localities')\n",
    "\n",
    "# Reset the index\n",
    "df.reset_index(drop=True, inplace=True)\n",
    "\n",
    "# Print the DataFrame\n",
    "print(df)"
   ]
  },
  {
   "cell_type": "code",
   "execution_count": null,
   "id": "d28f32b3-a57c-4a27-99ff-9aa544badf6e",
   "metadata": {},
   "outputs": [],
   "source": []
  }
 ],
 "metadata": {
  "kernelspec": {
   "display_name": "Python 3 (ipykernel)",
   "language": "python",
   "name": "python3"
  },
  "language_info": {
   "codemirror_mode": {
    "name": "ipython",
    "version": 3
   },
   "file_extension": ".py",
   "mimetype": "text/x-python",
   "name": "python",
   "nbconvert_exporter": "python",
   "pygments_lexer": "ipython3",
   "version": "3.10.12"
  }
 },
 "nbformat": 4,
 "nbformat_minor": 5
}
