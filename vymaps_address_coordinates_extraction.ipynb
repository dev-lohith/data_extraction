{
 "cells": [
  {
   "cell_type": "code",
   "execution_count": 2,
   "id": "293d2d0b",
   "metadata": {},
   "outputs": [],
   "source": [
    "import requests # pip install requests\n",
    "from bs4 import BeautifulSoup # pip install beautifulsoup4\n",
    "from lxml import etree\n",
    "import re\n",
    "import pandas as pd\n",
    "from IPython.display import display, IFrame"
   ]
  },
  {
   "cell_type": "code",
   "execution_count": 3,
   "id": "0c7f2d38",
   "metadata": {},
   "outputs": [
    {
     "data": {
      "text/html": [
       "\n",
       "        <iframe\n",
       "            width=\"100%\"\n",
       "            height=\"400px\"\n",
       "            src=\"https://vymaps.com/IN/Jharkhand/sublocality/1\"\n",
       "            frameborder=\"0\"\n",
       "            allowfullscreen\n",
       "            \n",
       "        ></iframe>\n",
       "        "
      ],
      "text/plain": [
       "<IPython.lib.display.IFrame at 0x7f72d19297b0>"
      ]
     },
     "metadata": {},
     "output_type": "display_data"
    }
   ],
   "source": [
    "# Specify the URL of the webpage you want to display\n",
    "url = \"https://vymaps.com/IN/Jharkhand/sublocality/1\"\n",
    "\n",
    "# Set the width and height of the iframe\n",
    "width = \"100%\"\n",
    "height = \"400px\"\n",
    "\n",
    "# Embed the webpage within an iframe and display it\n",
    "display(IFrame(url, width=width, height=height))"
   ]
  },
  {
   "cell_type": "code",
   "execution_count": 4,
   "id": "5d4b97ef",
   "metadata": {},
   "outputs": [
    {
     "data": {
      "text/html": [
       "<div>\n",
       "<style scoped>\n",
       "    .dataframe tbody tr th:only-of-type {\n",
       "        vertical-align: middle;\n",
       "    }\n",
       "\n",
       "    .dataframe tbody tr th {\n",
       "        vertical-align: top;\n",
       "    }\n",
       "\n",
       "    .dataframe thead th {\n",
       "        text-align: right;\n",
       "    }\n",
       "</style>\n",
       "<table border=\"1\" class=\"dataframe\">\n",
       "  <thead>\n",
       "    <tr style=\"text-align: right;\">\n",
       "      <th></th>\n",
       "      <th>Name</th>\n",
       "      <th>Coordinate</th>\n",
       "      <th>Address</th>\n",
       "    </tr>\n",
       "  </thead>\n",
       "  <tbody>\n",
       "    <tr>\n",
       "      <th>0</th>\n",
       "      <td>Chota Panchgar</td>\n",
       "      <td>25.2334523, 87.654205</td>\n",
       "      <td>Chota Panchgar, Sahibganj, Jharkhand 816109, I...</td>\n",
       "    </tr>\n",
       "    <tr>\n",
       "      <th>1</th>\n",
       "      <td>Ganga Vihar</td>\n",
       "      <td>25.2248175, 87.6400759</td>\n",
       "      <td>Ganga Vihar, Sahibganj PART, Jharkhand 816109,...</td>\n",
       "    </tr>\n",
       "    <tr>\n",
       "      <th>2</th>\n",
       "      <td>Kalikapur</td>\n",
       "      <td>24.6368325, 87.8623411</td>\n",
       "      <td>Kalikapur, Pakur, Jharkhand 816107, India</td>\n",
       "    </tr>\n",
       "    <tr>\n",
       "      <th>3</th>\n",
       "      <td>Harindanga Bazar</td>\n",
       "      <td>24.6352269, 87.8537478</td>\n",
       "      <td>Harindanga Bazar, Pakur, Jharkhand 816107, India</td>\n",
       "    </tr>\n",
       "    <tr>\n",
       "      <th>4</th>\n",
       "      <td>Tulshi Nagar</td>\n",
       "      <td>24.6388927, 87.8506783</td>\n",
       "      <td>Tulshi Nagar, Pakur, Jharkhand 816107, India</td>\n",
       "    </tr>\n",
       "  </tbody>\n",
       "</table>\n",
       "</div>"
      ],
      "text/plain": [
       "               Name              Coordinate  \\\n",
       "0    Chota Panchgar   25.2334523, 87.654205   \n",
       "1       Ganga Vihar  25.2248175, 87.6400759   \n",
       "2         Kalikapur  24.6368325, 87.8623411   \n",
       "3  Harindanga Bazar  24.6352269, 87.8537478   \n",
       "4      Tulshi Nagar  24.6388927, 87.8506783   \n",
       "\n",
       "                                             Address  \n",
       "0  Chota Panchgar, Sahibganj, Jharkhand 816109, I...  \n",
       "1  Ganga Vihar, Sahibganj PART, Jharkhand 816109,...  \n",
       "2          Kalikapur, Pakur, Jharkhand 816107, India  \n",
       "3   Harindanga Bazar, Pakur, Jharkhand 816107, India  \n",
       "4       Tulshi Nagar, Pakur, Jharkhand 816107, India  "
      ]
     },
     "execution_count": 4,
     "metadata": {},
     "output_type": "execute_result"
    }
   ],
   "source": [
    "city_name = \"Jharkhand\"\n",
    "city_pages = 1\n",
    "\n",
    "page_num = 1\n",
    "name_coordinates = []\n",
    "address_list = []\n",
    "tag = \"br/\"\n",
    "\n",
    "names = []\n",
    "coordinates = []\n",
    "\n",
    "for each in range(city_pages):\n",
    "    url = f\"https://vymaps.com/IN/{city_name}/sublocality/{page_num}/\"\n",
    "    response = requests.get(url)\n",
    "    soup = BeautifulSoup(response.text, 'html.parser')\n",
    "    page_num+=1\n",
    "    \n",
    "    for link in soup.find_all('a'):\n",
    "        if link.text not in ['VYMaps.com', 'Home', 'India', 'Jharkhand','About\\xa0Us', 'Privacy\\xa0Policy', 'Listing\\xa0Submission', 'Sitemap']:\n",
    "            if any(char.isdigit() for char in link.text):\n",
    "                coordinates.append(link.text)\n",
    "            else:\n",
    "                names.append(link.text)\n",
    "                \n",
    "    for link in soup.find_all('p'):\n",
    "        reg_str = \"<\" + tag + \">(.*?)<\" + tag + \">\"\n",
    "        res = str(re.findall(reg_str, str(link)))\n",
    "        address = res[11:-3]\n",
    "        if address:\n",
    "            address_list.append(address)\n",
    "        \n",
    "data = {\n",
    "    'Name': names,\n",
    "    'Coordinate': coordinates,\n",
    "    'Address': address_list\n",
    "}\n",
    "\n",
    "df = pd.DataFrame(data)\n",
    "\n",
    "# Print the DataFrame\n",
    "df.head()"
   ]
  },
  {
   "cell_type": "code",
   "execution_count": 5,
   "id": "5a6d353f",
   "metadata": {},
   "outputs": [],
   "source": [
    "df.to_csv(f\"./vymaps_extraction/{city_name}.csv\", index=False)"
   ]
  }
 ],
 "metadata": {
  "kernelspec": {
   "display_name": "Python 3 (ipykernel)",
   "language": "python",
   "name": "python3"
  },
  "language_info": {
   "codemirror_mode": {
    "name": "ipython",
    "version": 3
   },
   "file_extension": ".py",
   "mimetype": "text/x-python",
   "name": "python",
   "nbconvert_exporter": "python",
   "pygments_lexer": "ipython3",
   "version": "3.10.12"
  }
 },
 "nbformat": 4,
 "nbformat_minor": 5
}
